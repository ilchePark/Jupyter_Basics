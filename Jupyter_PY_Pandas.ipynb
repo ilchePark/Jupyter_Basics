{
 "cells": [
  {
   "cell_type": "markdown",
   "metadata": {},
   "source": [
    "<h1>INTRODUCCIÓN A PANDAS<h1>\n"
   ]
  },
  {
   "cell_type": "markdown",
   "metadata": {},
   "source": [
    "_First part_"
   ]
  },
  {
   "cell_type": "markdown",
   "metadata": {},
   "source": [
    "<h3>Read CSV 5<h3>"
   ]
  },
  {
   "cell_type": "code",
   "execution_count": 1,
   "metadata": {},
   "outputs": [],
   "source": [
    "#importando pandas para obtener la librería\n",
    "\n",
    "import pandas as pd"
   ]
  },
  {
   "cell_type": "code",
   "execution_count": 5,
   "metadata": {},
   "outputs": [
    {
     "name": "stdout",
     "output_type": "stream",
     "text": [
      "     Nombre  Edad  Sueldo\n",
      "0     Ilche    22    3000\n",
      "1     aaron    21    2939\n",
      "2     oscar    23    1078\n",
      "3    alonso    25    2884\n",
      "4   iriarte    22    2320\n",
      "5   nicolas    23    1184\n",
      "6    marcel    21    1382\n",
      "7     dario    20    2977\n",
      "8    mirian    19    1022\n",
      "9     karla    19    1155\n",
      "10    smail    22    1119\n"
     ]
    }
   ],
   "source": [
    "#Leyendo un csv con pandas, colocampos la ruta y la leemos\n",
    "#No se olviden de coloca el doble back slash en su directorio para que pueda leer bien la ruta\n",
    "\n",
    "csv_path = 'C:\\\\Users\\ilche_st130to\\Downloads\\Jupyter\\datos.csv'\n",
    "df= pd.read_csv(csv_path)\n",
    "print(df)"
   ]
  },
  {
   "cell_type": "code",
   "execution_count": 6,
   "metadata": {},
   "outputs": [
    {
     "data": {
      "text/html": [
       "<div>\n",
       "<style scoped>\n",
       "    .dataframe tbody tr th:only-of-type {\n",
       "        vertical-align: middle;\n",
       "    }\n",
       "\n",
       "    .dataframe tbody tr th {\n",
       "        vertical-align: top;\n",
       "    }\n",
       "\n",
       "    .dataframe thead th {\n",
       "        text-align: right;\n",
       "    }\n",
       "</style>\n",
       "<table border=\"1\" class=\"dataframe\">\n",
       "  <thead>\n",
       "    <tr style=\"text-align: right;\">\n",
       "      <th></th>\n",
       "      <th>Nombre</th>\n",
       "      <th>Edad</th>\n",
       "      <th>Sueldo</th>\n",
       "    </tr>\n",
       "  </thead>\n",
       "  <tbody>\n",
       "    <tr>\n",
       "      <th>0</th>\n",
       "      <td>Ilche</td>\n",
       "      <td>22</td>\n",
       "      <td>3000</td>\n",
       "    </tr>\n",
       "    <tr>\n",
       "      <th>1</th>\n",
       "      <td>aaron</td>\n",
       "      <td>21</td>\n",
       "      <td>2939</td>\n",
       "    </tr>\n",
       "    <tr>\n",
       "      <th>2</th>\n",
       "      <td>oscar</td>\n",
       "      <td>23</td>\n",
       "      <td>1078</td>\n",
       "    </tr>\n",
       "    <tr>\n",
       "      <th>3</th>\n",
       "      <td>alonso</td>\n",
       "      <td>25</td>\n",
       "      <td>2884</td>\n",
       "    </tr>\n",
       "    <tr>\n",
       "      <th>4</th>\n",
       "      <td>iriarte</td>\n",
       "      <td>22</td>\n",
       "      <td>2320</td>\n",
       "    </tr>\n",
       "  </tbody>\n",
       "</table>\n",
       "</div>"
      ],
      "text/plain": [
       "    Nombre  Edad  Sueldo\n",
       "0    Ilche    22    3000\n",
       "1    aaron    21    2939\n",
       "2    oscar    23    1078\n",
       "3   alonso    25    2884\n",
       "4  iriarte    22    2320"
      ]
     },
     "execution_count": 6,
     "metadata": {},
     "output_type": "execute_result"
    }
   ],
   "source": [
    "#DataFrame para colocar los datos \n",
    "\n",
    "csv_path = 'C:\\\\Users\\ilche_st130to\\Downloads\\Jupyter\\datos.csv'\n",
    "df= pd.read_csv(csv_path)\n",
    "df.head()"
   ]
  },
  {
   "cell_type": "markdown",
   "metadata": {},
   "source": [
    "<h3>Read Excel<h3>"
   ]
  },
  {
   "cell_type": "code",
   "execution_count": 13,
   "metadata": {},
   "outputs": [],
   "source": [
    "#importando pandas para obtener la librería\n",
    "\n",
    "import pandas as pd"
   ]
  },
  {
   "cell_type": "code",
   "execution_count": 14,
   "metadata": {},
   "outputs": [
    {
     "name": "stdout",
     "output_type": "stream",
     "text": [
      "     Nombre  Edad  Sueldo\n",
      "0     Ilche    22    3000\n",
      "1     aaron    21    2939\n",
      "2     oscar    23    1078\n",
      "3    alonso    25    2884\n",
      "4   iriarte    22    2320\n",
      "5   nicolas    23    1184\n",
      "6    marcel    21    1382\n",
      "7     dario    20    2977\n",
      "8    mirian    19    1022\n",
      "9     karla    19    1155\n",
      "10    smail    22    1119\n"
     ]
    }
   ],
   "source": [
    "#Leyendo un excel con pandas, colocampos la ruta y la leemos\n",
    "#No se olviden de coloca el doble back slash en su directorio para que pueda leer bien la ruta\n",
    "\n",
    "excel_path = 'C:\\\\Users\\ilche_st130to\\OneDrive\\Escritorio\\Jupyter\\Datos2.xlsx'\n",
    "df= pd.read_excel(excel_path)\n",
    "print(df)"
   ]
  },
  {
   "cell_type": "code",
   "execution_count": 18,
   "metadata": {},
   "outputs": [
    {
     "data": {
      "text/html": [
       "<div>\n",
       "<style scoped>\n",
       "    .dataframe tbody tr th:only-of-type {\n",
       "        vertical-align: middle;\n",
       "    }\n",
       "\n",
       "    .dataframe tbody tr th {\n",
       "        vertical-align: top;\n",
       "    }\n",
       "\n",
       "    .dataframe thead th {\n",
       "        text-align: right;\n",
       "    }\n",
       "</style>\n",
       "<table border=\"1\" class=\"dataframe\">\n",
       "  <thead>\n",
       "    <tr style=\"text-align: right;\">\n",
       "      <th></th>\n",
       "      <th>Nombre</th>\n",
       "      <th>Edad</th>\n",
       "      <th>Sueldo</th>\n",
       "    </tr>\n",
       "  </thead>\n",
       "  <tbody>\n",
       "    <tr>\n",
       "      <th>0</th>\n",
       "      <td>Ilche</td>\n",
       "      <td>22</td>\n",
       "      <td>3000</td>\n",
       "    </tr>\n",
       "    <tr>\n",
       "      <th>1</th>\n",
       "      <td>aaron</td>\n",
       "      <td>21</td>\n",
       "      <td>2939</td>\n",
       "    </tr>\n",
       "    <tr>\n",
       "      <th>2</th>\n",
       "      <td>oscar</td>\n",
       "      <td>23</td>\n",
       "      <td>1078</td>\n",
       "    </tr>\n",
       "    <tr>\n",
       "      <th>3</th>\n",
       "      <td>alonso</td>\n",
       "      <td>25</td>\n",
       "      <td>2884</td>\n",
       "    </tr>\n",
       "    <tr>\n",
       "      <th>4</th>\n",
       "      <td>iriarte</td>\n",
       "      <td>22</td>\n",
       "      <td>2320</td>\n",
       "    </tr>\n",
       "    <tr>\n",
       "      <th>5</th>\n",
       "      <td>nicolas</td>\n",
       "      <td>23</td>\n",
       "      <td>1184</td>\n",
       "    </tr>\n",
       "    <tr>\n",
       "      <th>6</th>\n",
       "      <td>marcel</td>\n",
       "      <td>21</td>\n",
       "      <td>1382</td>\n",
       "    </tr>\n",
       "    <tr>\n",
       "      <th>7</th>\n",
       "      <td>dario</td>\n",
       "      <td>20</td>\n",
       "      <td>2977</td>\n",
       "    </tr>\n",
       "    <tr>\n",
       "      <th>8</th>\n",
       "      <td>mirian</td>\n",
       "      <td>19</td>\n",
       "      <td>1022</td>\n",
       "    </tr>\n",
       "    <tr>\n",
       "      <th>9</th>\n",
       "      <td>karla</td>\n",
       "      <td>19</td>\n",
       "      <td>1155</td>\n",
       "    </tr>\n",
       "    <tr>\n",
       "      <th>10</th>\n",
       "      <td>smail</td>\n",
       "      <td>22</td>\n",
       "      <td>1119</td>\n",
       "    </tr>\n",
       "  </tbody>\n",
       "</table>\n",
       "</div>"
      ],
      "text/plain": [
       "     Nombre  Edad  Sueldo\n",
       "0     Ilche    22    3000\n",
       "1     aaron    21    2939\n",
       "2     oscar    23    1078\n",
       "3    alonso    25    2884\n",
       "4   iriarte    22    2320\n",
       "5   nicolas    23    1184\n",
       "6    marcel    21    1382\n",
       "7     dario    20    2977\n",
       "8    mirian    19    1022\n",
       "9     karla    19    1155\n",
       "10    smail    22    1119"
      ]
     },
     "execution_count": 18,
     "metadata": {},
     "output_type": "execute_result"
    }
   ],
   "source": [
    "#DataFrame para colocar los datos \n",
    "\n",
    "excel_path = 'C:\\\\Users\\ilche_st130to\\OneDrive\\Escritorio\\Jupyter\\Datos2.xlsx'\n",
    "df2= pd.read_excel(excel_path)\n",
    "df2.head(11)"
   ]
  },
  {
   "cell_type": "markdown",
   "metadata": {},
   "source": [
    "<h3>CREANDO UN DATAFRAME COMO DICCIONARIO<h3>"
   ]
  },
  {
   "cell_type": "code",
   "execution_count": 38,
   "metadata": {},
   "outputs": [
    {
     "data": {
      "text/html": [
       "<div>\n",
       "<style scoped>\n",
       "    .dataframe tbody tr th:only-of-type {\n",
       "        vertical-align: middle;\n",
       "    }\n",
       "\n",
       "    .dataframe tbody tr th {\n",
       "        vertical-align: top;\n",
       "    }\n",
       "\n",
       "    .dataframe thead th {\n",
       "        text-align: right;\n",
       "    }\n",
       "</style>\n",
       "<table border=\"1\" class=\"dataframe\">\n",
       "  <thead>\n",
       "    <tr style=\"text-align: right;\">\n",
       "      <th></th>\n",
       "      <th>Name</th>\n",
       "      <th>Years</th>\n",
       "      <th>Last Name</th>\n",
       "    </tr>\n",
       "  </thead>\n",
       "  <tbody>\n",
       "    <tr>\n",
       "      <th>0</th>\n",
       "      <td>Ilche</td>\n",
       "      <td>10</td>\n",
       "      <td>LastName-0</td>\n",
       "    </tr>\n",
       "    <tr>\n",
       "      <th>1</th>\n",
       "      <td>ilche</td>\n",
       "      <td>11</td>\n",
       "      <td>LastName-1</td>\n",
       "    </tr>\n",
       "    <tr>\n",
       "      <th>2</th>\n",
       "      <td>Luis</td>\n",
       "      <td>12</td>\n",
       "      <td>LastName-2</td>\n",
       "    </tr>\n",
       "    <tr>\n",
       "      <th>3</th>\n",
       "      <td>Janet</td>\n",
       "      <td>17</td>\n",
       "      <td>LastName-3</td>\n",
       "    </tr>\n",
       "    <tr>\n",
       "      <th>4</th>\n",
       "      <td>Monier</td>\n",
       "      <td>20</td>\n",
       "      <td>LastName-4</td>\n",
       "    </tr>\n",
       "  </tbody>\n",
       "</table>\n",
       "</div>"
      ],
      "text/plain": [
       "     Name Years   Last Name\n",
       "0   Ilche    10  LastName-0\n",
       "1   ilche    11  LastName-1\n",
       "2    Luis    12  LastName-2\n",
       "3   Janet    17  LastName-3\n",
       "4  Monier    20  LastName-4"
      ]
     },
     "execution_count": 38,
     "metadata": {},
     "output_type": "execute_result"
    }
   ],
   "source": [
    "#EL DATA FRAME SE LLAMARÁ DICCIONARIO_1\n",
    "\n",
    "\n",
    "DICCIONARIO_1= {'Name':['Ilche', 'ilche', 'Luis', 'Janet', 'Monier'],\n",
    "                'Years':  ['10',     '11',    '12',   '17',     '20'],\n",
    "            'Last Name':[ 'LastName-0','LastName-1','LastName-2','LastName-3','LastName-4']}\n",
    "\n",
    "variable_frame =pd.DataFrame(DICCIONARIO_1)\n",
    "variable_frame.head()\n",
    "\n"
   ]
  },
  {
   "cell_type": "code",
   "execution_count": 39,
   "metadata": {},
   "outputs": [
    {
     "data": {
      "text/html": [
       "<div>\n",
       "<style scoped>\n",
       "    .dataframe tbody tr th:only-of-type {\n",
       "        vertical-align: middle;\n",
       "    }\n",
       "\n",
       "    .dataframe tbody tr th {\n",
       "        vertical-align: top;\n",
       "    }\n",
       "\n",
       "    .dataframe thead th {\n",
       "        text-align: right;\n",
       "    }\n",
       "</style>\n",
       "<table border=\"1\" class=\"dataframe\">\n",
       "  <thead>\n",
       "    <tr style=\"text-align: right;\">\n",
       "      <th></th>\n",
       "      <th>Name</th>\n",
       "      <th>Years</th>\n",
       "      <th>Last Name</th>\n",
       "    </tr>\n",
       "  </thead>\n",
       "  <tbody>\n",
       "    <tr>\n",
       "      <th>0</th>\n",
       "      <td>Ilche</td>\n",
       "      <td>10</td>\n",
       "      <td>LastName-0</td>\n",
       "    </tr>\n",
       "    <tr>\n",
       "      <th>1</th>\n",
       "      <td>ilche</td>\n",
       "      <td>11</td>\n",
       "      <td>LastName-1</td>\n",
       "    </tr>\n",
       "    <tr>\n",
       "      <th>2</th>\n",
       "      <td>Luis</td>\n",
       "      <td>12</td>\n",
       "      <td>LastName-2</td>\n",
       "    </tr>\n",
       "    <tr>\n",
       "      <th>3</th>\n",
       "      <td>Janet</td>\n",
       "      <td>17</td>\n",
       "      <td>LastName-3</td>\n",
       "    </tr>\n",
       "  </tbody>\n",
       "</table>\n",
       "</div>"
      ],
      "text/plain": [
       "    Name Years   Last Name\n",
       "0  Ilche    10  LastName-0\n",
       "1  ilche    11  LastName-1\n",
       "2   Luis    12  LastName-2\n",
       "3  Janet    17  LastName-3"
      ]
     },
     
     "execution_count": 39,
     "metadata": {},
     "output_type": "execute_result"
    } 
   ],
   "source": [
    "#Accediendo a columnas específicas\n",
    "\n",
    "variable_frame[0:4]\n"
   ]
  }
  
 ],
 "metadata": {
  "kernelspec": {
   "display_name": "Python 3",
   "language": "python",
   "name": "python3"
  },
  {
   "cell_type": "markdown",
   "metadata": {},
   "source": [
    "                                                  Email: U201512507@upc.edu.pe\n",
    "                                                  \n",
    "                                                  "
   ]
  },
  "language_info": {
   "codemirror_mode": {
    "name": "ipython",
    "version": 3
   },
   "file_extension": ".py",
   "mimetype": "text/x-python",
   "name": "python",
   "nbconvert_exporter": "python",
   "pygments_lexer": "ipython3",
   "version": "3.8.5"
  }
 },
 "nbformat": 4,
 "nbformat_minor": 4
}
