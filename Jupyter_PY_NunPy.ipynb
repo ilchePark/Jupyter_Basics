{
 "cells": [
  {
   "cell_type": "markdown",
   "metadata": {},
   "source": [
    "<h1>INTRODUCCIÓN A NUNPY<h1>"
   ]
  },
  {
   "cell_type": "markdown",
   "metadata": {},
   "source": [
    "_Objetivos:_\n",
    "\n",
    "_1. The basics and Array creation_\n",
    "\n",
    "_2. Indexing and slicing_\n",
    "\n",
    "_3. Basic Operation_\n",
    "\n",
    "_4. Universal Functions_\n",
    "\n"
   ]
  },
  {
   "cell_type": "code",
   "execution_count": 3,
   "metadata": {},
   "outputs": [
    {
     "name": "stdout",
     "output_type": "stream",
     "text": [
      "['1', 'Hola', 0, 4]\n"
     ]
    },
    {
     "data": {
      "text/plain": [
       "'1'"
      ]
     },
     "execution_count": 3,
     "metadata": {},
     "output_type": "execute_result"
    }
   ],
   "source": [
    "#Creando un array\n",
    "\n",
    "A = ['1','Hola',0,4]\n",
    "\n",
    "print(A) "
   ]
  },
  {
   "cell_type": "code",
   "execution_count": 5,
   "metadata": {},
   "outputs": [
    {
     "data": {
      "text/plain": [
       "'1'"
      ]
     },
     "execution_count": 5,
     "metadata": {},
     "output_type": "execute_result"
    }
   ],
   "source": [
    "#Accediente al primer elemento\n",
    "A[0]"
   ]
  },
  {
   "cell_type": "code",
   "execution_count": 6,
   "metadata": {},
   "outputs": [
    {
     "data": {
      "text/plain": [
       "4"
      ]
     },
     "execution_count": 6,
     "metadata": {},
     "output_type": "execute_result"
    }
   ],
   "source": [
    "#Accediente al último elemento\n",
    "A[3]"
   ]
  },
  {
   "cell_type": "code",
   "execution_count": 8,
   "metadata": {},
   "outputs": [],
   "source": [
    "#Importando NunPy\n",
    "import numpy as np"
   ]
  },
  {
   "cell_type": "code",
   "execution_count": 13,
   "metadata": {},
   "outputs": [],
   "source": [
    "Lista = ['1','Hello',0,4]\n",
    "Lista_array = np.array(Lista)"
   ]
  },
  {
   "cell_type": "code",
   "execution_count": 15,
   "metadata": {},
   "outputs": [
    {
     "name": "stdout",
     "output_type": "stream",
     "text": [
      "['1' 'Hello' '0' '4']\n"
     ]
    }
   ],
   "source": [
    "print(Lista_array)"
   ]
  },
  {
   "cell_type": "code",
   "execution_count": 21,
   "metadata": {},
   "outputs": [
    {
     "data": {
      "text/plain": [
       "4"
      ]
     },
     "execution_count": 21,
     "metadata": {},
     "output_type": "execute_result"
    }
   ],
   "source": [
    "#Tenemos dos formas de:\n",
    "#Como saber el tamaño de la lista\n",
    "len(Lista_array)\n",
    "\n",
    "#Como saber el tamaño de la lista\n",
    "Lista_array.size\n"
   ]
  },
  {
   "cell_type": "code",
   "execution_count": 18,
   "metadata": {},
   "outputs": [
    {
     "data": {
      "text/plain": [
       "numpy.ndarray"
      ]
     },
     "execution_count": 18,
     "metadata": {},
     "output_type": "execute_result"
    }
   ],
   "source": [
    "#Para saber el tipo de la variable, ahora sabemos que es numpy lista array\n",
    "type(Lista_array)"
   ]
  },
  {
   "cell_type": "code",
   "execution_count": 22,
   "metadata": {},
   "outputs": [
    {
     "data": {
      "text/plain": [
       "1"
      ]
     },
     "execution_count": 22,
     "metadata": {},
     "output_type": "execute_result"
    }
   ],
   "source": [
    "#Para saber la dimensión del array\n",
    "Lista_array.ndim"
   ]
  },
  {
   "cell_type": "code",
   "execution_count": 24,
   "metadata": {},
   "outputs": [
    {
     "data": {
      "text/plain": [
       "(4,)"
      ]
     },
     "execution_count": 24,
     "metadata": {},
     "output_type": "execute_result"
    }
   ],
   "source": [
    "#Es para saber el número de elementos en cáda dimensión\n",
    "Lista_array.shape\n"
   ]
  },
  {
   "cell_type": "code",
   "execution_count": 26,
   "metadata": {},
   "outputs": [
    {
     "data": {
      "text/plain": [
       "dtype('<U5')"
      ]
     },
     "execution_count": 26,
     "metadata": {},
     "output_type": "execute_result"
    }
   ],
   "source": [
    "#Para saber el tipo de variable que tenemos dentro del array\n",
    "# '<U5' SIGNIFICA: the String datatype.\n",
    "Lista_array.dtype"
   ]
  },
  {
   "cell_type": "code",
   "execution_count": 27,
   "metadata": {},
   "outputs": [
    {
     "data": {
      "text/plain": [
       "'Hello'"
      ]
     },
     "execution_count": 27,
     "metadata": {},
     "output_type": "execute_result"
    }
   ],
   "source": [
    "#Cambiando el valor en una posición específica,\n",
    "Lista_array[1]"
   ]
  },
  {
   "cell_type": "code",
   "execution_count": 32,
   "metadata": {},
   "outputs": [
    {
     "data": {
      "text/plain": [
       "'Valor'"
      ]
     },
     "execution_count": 32,
     "metadata": {},
     "output_type": "execute_result"
    }
   ],
   "source": [
    "#En este caso intentaremos cambiar la posicion 2\n",
    "Lista_array[1]='Valor'\n",
    "Lista_array[1]"
   ]
  },
  {
   "cell_type": "code",
   "execution_count": 34,
   "metadata": {},
   "outputs": [
    {
     "name": "stdout",
     "output_type": "stream",
     "text": [
      "[1, 1]\n"
     ]
    }
   ],
   "source": [
    "#Vectores 1era forma de sumar\n",
    "u=[1,0]\n",
    "v=[0,1]\n",
    "z=[]\n",
    "for n, m in zip(u,v):\n",
    "    z.append(n+m)\n",
    "\n",
    "print(z)"
   ]
  },
  {
   "cell_type": "code",
   "execution_count": 40,
   "metadata": {},
   "outputs": [
    {
     "name": "stdout",
     "output_type": "stream",
     "text": [
      "[1 1]\n"
     ]
    }
   ],
   "source": [
    "#Vectores 2da forma de sumar\n",
    "\n",
    "u=np.array([1,0])\n",
    "v=np.array([0,1])\n",
    "K=u+v\n",
    "print(K)"
   ]
  },
  {
   "cell_type": "code",
   "execution_count": 44,
   "metadata": {},
   "outputs": [
    {
     "name": "stdout",
     "output_type": "stream",
     "text": [
      "[2 4]\n"
     ]
    }
   ],
   "source": [
    "#Multiplcación de un array con un escalar\n",
    "\n",
    "u=np.array([1,2])\n",
    "K=2*u\n",
    "print(K) "
   ]
  },
  {
   "cell_type": "code",
   "execution_count": 46,
   "metadata": {},
   "outputs": [
    {
     "name": "stdout",
     "output_type": "stream",
     "text": [
      "[2, 4]\n"
     ]
    }
   ],
   "source": [
    "#Ortra forma de Multiplcación de un array con un escalar\n",
    "y=[1,2]\n",
    "z=[]\n",
    "for n in y:\n",
    "    z.append(2*n)\n",
    "\n",
    "print(z)"
   ]
  },
  {
   "cell_type": "code",
   "execution_count": 51,
   "metadata": {},
   "outputs": [
    {
     "name": "stdout",
     "output_type": "stream",
     "text": [
      "37\n"
     ]
    }
   ],
   "source": [
    "#Función de dot\n",
    "#Este es el producto entre 2 arrays\n",
    "\n",
    "import numpy as np\n",
    "y=np.array([5,4])\n",
    "z=np.array([5,3])\n",
    "result = np.dot(y,z)\n",
    "\n",
    "# 5 * 5 + 4 *3\n",
    "\n",
    "print(result)"
   ]
  },
  {
   "cell_type": "code",
   "execution_count": 53,
   "metadata": {},
   "outputs": [
    {
     "name": "stdout",
     "output_type": "stream",
     "text": [
      "3.0\n"
     ]
    }
   ],
   "source": [
    "#Función de NUMPY para calcular la media\n",
    "\n",
    "import numpy as np\n",
    "\n",
    "Array_Ejemplo = np.array([1,2,3,4,5])\n",
    "Media_ejemplo =Array_Ejemplo.mean()\n",
    "\n",
    "print(Media_ejemplo)"
   ]
  },
  {
   "cell_type": "code",
   "execution_count": 54,
   "metadata": {},
   "outputs": [
    {
     "name": "stdout",
     "output_type": "stream",
     "text": [
      "5\n"
     ]
    }
   ],
   "source": [
    "#Función para saber el valor máximo\n",
    "import numpy as np\n",
    "\n",
    "Array_Ejemplo = np.array([1,2,3,4,5])\n",
    "Max_ejemplo =Array_Ejemplo.max()\n",
    "\n",
    "print(Max_ejemplo)"
   ]
  },
  {
   "cell_type": "code",
   "execution_count": 62,
   "metadata": {},
   "outputs": [
    {
     "data": {
      "text/plain": [
       "array([-2., -1.,  0.,  1.,  2.])"
      ]
     },
     "execution_count": 62,
     "metadata": {},
     "output_type": "execute_result"
    }
   ],
   "source": [
    "#Función el espaciado entre 2 números\n",
    "import numpy as np\n",
    "np.linspace(-2,2,5)\n",
    "\n",
    "#Valor minimo = -2 \n",
    "#Valor Max = 2\n",
    "#Espacio entre los valores max y min = 5\n",
    "\n",
    " \n",
    "\n"
   ]
  },
  {
   "cell_type": "code",
   "execution_count": 70,
   "metadata": {},
   "outputs": [
    {
     "name": "stdout",
     "output_type": "stream",
     "text": [
      "[ 0.00000000e+00  6.34239197e-02  1.26592454e-01  1.89251244e-01\n",
      "  2.51147987e-01  3.12033446e-01  3.71662456e-01  4.29794912e-01\n",
      "  4.86196736e-01  5.40640817e-01  5.92907929e-01  6.42787610e-01\n",
      "  6.90079011e-01  7.34591709e-01  7.76146464e-01  8.14575952e-01\n",
      "  8.49725430e-01  8.81453363e-01  9.09631995e-01  9.34147860e-01\n",
      "  9.54902241e-01  9.71811568e-01  9.84807753e-01  9.93838464e-01\n",
      "  9.98867339e-01  9.99874128e-01  9.96854776e-01  9.89821442e-01\n",
      "  9.78802446e-01  9.63842159e-01  9.45000819e-01  9.22354294e-01\n",
      "  8.95993774e-01  8.66025404e-01  8.32569855e-01  7.95761841e-01\n",
      "  7.55749574e-01  7.12694171e-01  6.66769001e-01  6.18158986e-01\n",
      "  5.67059864e-01  5.13677392e-01  4.58226522e-01  4.00930535e-01\n",
      "  3.42020143e-01  2.81732557e-01  2.20310533e-01  1.58001396e-01\n",
      "  9.50560433e-02  3.17279335e-02 -3.17279335e-02 -9.50560433e-02\n",
      " -1.58001396e-01 -2.20310533e-01 -2.81732557e-01 -3.42020143e-01\n",
      " -4.00930535e-01 -4.58226522e-01 -5.13677392e-01 -5.67059864e-01\n",
      " -6.18158986e-01 -6.66769001e-01 -7.12694171e-01 -7.55749574e-01\n",
      " -7.95761841e-01 -8.32569855e-01 -8.66025404e-01 -8.95993774e-01\n",
      " -9.22354294e-01 -9.45000819e-01 -9.63842159e-01 -9.78802446e-01\n",
      " -9.89821442e-01 -9.96854776e-01 -9.99874128e-01 -9.98867339e-01\n",
      " -9.93838464e-01 -9.84807753e-01 -9.71811568e-01 -9.54902241e-01\n",
      " -9.34147860e-01 -9.09631995e-01 -8.81453363e-01 -8.49725430e-01\n",
      " -8.14575952e-01 -7.76146464e-01 -7.34591709e-01 -6.90079011e-01\n",
      " -6.42787610e-01 -5.92907929e-01 -5.40640817e-01 -4.86196736e-01\n",
      " -4.29794912e-01 -3.71662456e-01 -3.12033446e-01 -2.51147987e-01\n",
      " -1.89251244e-01 -1.26592454e-01 -6.34239197e-02 -2.44929360e-16]\n"
     ]
    },
    {
     "data": {
      "text/plain": [
       "[<matplotlib.lines.Line2D at 0x20ec6e23340>]"
      ]
     },
     "execution_count": 70,
     "metadata": {},
     "output_type": "execute_result"
    },
    {
     "data": {
      "image/png": "[encoded data removed]",
      "text/plain": [
       "<Figure size 432x288 with 1 Axes>"
      ]
     },
     "metadata": {
      "needs_background": "light"
     },
     "output_type": "display_data"
    }
   ],
   "source": [
    "#Función para graficar nro_1\n",
    "import numpy as np\n",
    "import matplotlib.pyplot as plt\n",
    "x= np.linspace(0,2*np.pi,100)\n",
    "y=np.sin(x)\n",
    "print(y)\n",
    "\n",
    "plt.plot(x,y)\n",
    "\n",
    " \n",
    "\n",
    " "
   ]
  },
  {
   "cell_type": "code",
   "execution_count": 78,
   "metadata": {},
   "outputs": [
    {
     "name": "stdout",
     "output_type": "stream",
     "text": [
      "[1.00000000e+02 9.60004081e+01 9.20824406e+01 8.82460973e+01\n",
      " 8.44913784e+01 8.08182838e+01 7.72268136e+01 7.37169677e+01\n",
      " 7.02887460e+01 6.69421488e+01 6.36771758e+01 6.04938272e+01\n",
      " 5.73921028e+01 5.43720029e+01 5.14335272e+01 4.85766758e+01\n",
      " 4.58014488e+01 4.31078461e+01 4.04958678e+01 3.79655137e+01\n",
      " 3.55167840e+01 3.31496786e+01 3.08641975e+01 2.86603408e+01\n",
      " 2.65381084e+01 2.44975003e+01 2.25385165e+01 2.06611570e+01\n",
      " 1.88654219e+01 1.71513111e+01 1.55188246e+01 1.39679625e+01\n",
      " 1.24987246e+01 1.11111111e+01 9.80512193e+00 8.58075707e+00\n",
      " 7.43801653e+00 6.37690032e+00 5.39740843e+00 4.49954086e+00\n",
      " 3.68329762e+00 2.94867871e+00 2.29568411e+00 1.72431385e+00\n",
      " 1.23456790e+00 8.26446281e-01 4.99948985e-01 2.55076013e-01\n",
      " 9.18273646e-02 1.02030405e-02 1.02030405e-02 9.18273646e-02\n",
      " 2.55076013e-01 4.99948985e-01 8.26446281e-01 1.23456790e+00\n",
      " 1.72431385e+00 2.29568411e+00 2.94867871e+00 3.68329762e+00\n",
      " 4.49954086e+00 5.39740843e+00 6.37690032e+00 7.43801653e+00\n",
      " 8.58075707e+00 9.80512193e+00 1.11111111e+01 1.24987246e+01\n",
      " 1.39679625e+01 1.55188246e+01 1.71513111e+01 1.88654219e+01\n",
      " 2.06611570e+01 2.25385165e+01 2.44975003e+01 2.65381084e+01\n",
      " 2.86603408e+01 3.08641975e+01 3.31496786e+01 3.55167840e+01\n",
      " 3.79655137e+01 4.04958678e+01 4.31078461e+01 4.58014488e+01\n",
      " 4.85766758e+01 5.14335272e+01 5.43720029e+01 5.73921028e+01\n",
      " 6.04938272e+01 6.36771758e+01 6.69421488e+01 7.02887460e+01\n",
      " 7.37169677e+01 7.72268136e+01 8.08182838e+01 8.44913784e+01\n",
      " 8.82460973e+01 9.20824406e+01 9.60004081e+01 1.00000000e+02]\n"
     ]
    },
    {
     "data": {
      "text/plain": [
       "[<matplotlib.lines.Line2D at 0x20ec71a5610>]"
      ]
     },
     "execution_count": 78,
     "metadata": {},
     "output_type": "execute_result"
    },
    {
     "data": {
      "image/png": "[encoded data removed]",
      "text/plain": [
       "<Figure size 432x288 with 1 Axes>"
      ]
     },
     "metadata": {
      "needs_background": "light"
     },
     "output_type": "display_data"
    }
   ],
   "source": [
    "#Función para graficar nro_2\n",
    "import numpy as np\n",
    "import matplotlib.pyplot as plt\n",
    "x= np.linspace(-10,10,100)\n",
    "y= x*x\n",
    "\n",
    "print(y)\n",
    "\n",
    "plt.plot(x,y)\n",
    "\n",
    " \n"
   ]
  },
  {
   "cell_type": "markdown",
   "metadata": {},
   "source": [
    "                                                  Email: U201512507@upc.edu.pe\n",
    "                                                  \n",
    "                                                  "
   ]
  },
  {
   "cell_type": "code",
   "execution_count": null,
   "metadata": {},
   "outputs": [],
   "source": []
  }
 ],
 "metadata": {
  "kernelspec": {
   "display_name": "Python 3",
   "language": "python",
   "name": "python3"
  },
  "language_info": {
   "codemirror_mode": {
    "name": "ipython",
    "version": 3
   },
   "file_extension": ".py",
   "mimetype": "text/x-python",
   "name": "python",
   "nbconvert_exporter": "python",
   "pygments_lexer": "ipython3",
   "version": "3.8.5"
  }
 },
 "nbformat": 4,
 "nbformat_minor": 4
}
