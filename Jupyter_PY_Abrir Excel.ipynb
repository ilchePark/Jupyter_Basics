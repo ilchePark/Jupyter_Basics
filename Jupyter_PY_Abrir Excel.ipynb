{
 "cells": [
  {
   "cell_type": "markdown",
   "metadata": {},
   "source": [
    "__Leyendo un archivos en JUPYTER__"
   ]
  },
  {
   "cell_type": "markdown",
   "metadata": {},
   "source": [
    "_Leyendo un excel_"
   ]
  },
  {
   "cell_type": "code",
   "execution_count": 31,
   "metadata": {},
   "outputs": [
    {
     "name": "stdout",
     "output_type": "stream",
     "text": [
      "     Nombre  Edad  Sueldo\n",
      "0     Ilche    22    3000\n",
      "1     aaron    21    2939\n",
      "2     oscar    23    1078\n",
      "3    alonso    25    2884\n",
      "4   iriarte    22    2320\n",
      "5   nicolas    23    1184\n",
      "6    marcel    21    1382\n",
      "7     dario    20    2977\n",
      "8    mirian    19    1022\n",
      "9     karla    19    1155\n",
      "10    smail    22    1119\n"
     ]
    }
   ],
   "source": [
    "import pandas as pd\n",
    "df = pd.read_excel  (r'\\Users\\ilche_st130to\\Downloads\\Otro\\Datos2.xlsx')\n",
    "print(df)"
   ]
  },
  {
   "cell_type": "markdown",
   "metadata": {},
   "source": [
    "_Leyendo un TXT_"
   ]
  },
  {
   "cell_type": "code",
   "execution_count": 61,
   "metadata": {},
   "outputs": [
    {
     "name": "stdout",
     "output_type": "stream",
     "text": [
      "Hola Mi nombre es Ilche\n",
      "Hola Mi nombre es Oscar\n",
      "Hola Mi nombre es Miguel\n",
      "\n"
     ]
    }
   ],
   "source": [
    "f = open('C:\\\\Users\\ilche_st130to\\Downloads\\Otro\\Archivo1.txt','r')\n",
    "mensaje = f.read()\n",
    "print(mensaje)"
   ]
  },
  {
   "cell_type": "markdown",
   "metadata": {},
   "source": [
    "_Escribiendo dentro de un txt_"
   ]
  },
  {
   "cell_type": "code",
   "execution_count": 60,
   "metadata": {},
   "outputs": [
    {
     "data": {
      "text/plain": [
       "25"
      ]
     },
     "execution_count": 60,
     "metadata": {},
     "output_type": "execute_result"
    }
   ],
   "source": [
    "file1 = open('C:\\\\Users\\ilche_st130to\\Downloads\\Otro\\Archivo1.txt','w')\n",
    "file1.write(\"Hola Mi nombre es Ilche\\n\")\n",
    "file1.write(\"Hola Mi nombre es Oscar\\n\")\n",
    "file1.write(\"Hola Mi nombre es Miguel\\n\")\n",
    " "
   ]
  },
  {
   "cell_type": "code",
   "execution_count": null,
   "metadata": {},
   "outputs": [],
   "source": []
  }
 ],
 "metadata": {
  "kernelspec": {
   "display_name": "Python 3",
   "language": "python",
   "name": "python3"
  },
  "language_info": {
   "codemirror_mode": {
    "name": "ipython",
    "version": 3
   },
   "file_extension": ".py",
   "mimetype": "text/x-python",
   "name": "python",
   "nbconvert_exporter": "python",
   "pygments_lexer": "ipython3",
   "version": "3.8.5"
  }
 },
 "nbformat": 4,
 "nbformat_minor": 4
}
